{
 "cells": [
  {
   "cell_type": "code",
   "execution_count": 5,
   "metadata": {},
   "outputs": [],
   "source": [
    "import json\n",
    "import sys\n",
    "\n",
    "import mlflow\n",
    "import numpy as np\n",
    "import pandas as pd\n",
    "\n",
    "from tqdm import tqdm\n",
    "\n",
    "sys.path.append('../src/')\n",
    "\n",
    "from modules.config import Config"
   ]
  },
  {
   "cell_type": "markdown",
   "metadata": {},
   "source": [
    "# Variables"
   ]
  },
  {
   "cell_type": "code",
   "execution_count": 6,
   "metadata": {},
   "outputs": [
    {
     "name": "stderr",
     "output_type": "stream",
     "text": [
      "c:\\Users\\FLP-13-Rimba\\miniconda3\\envs\\project-mix-design\\lib\\site-packages\\tqdm\\auto.py:21: TqdmWarning: IProgress not found. Please update jupyter and ipywidgets. See https://ipywidgets.readthedocs.io/en/stable/user_install.html\n",
      "  from .autonotebook import tqdm as notebook_tqdm\n"
     ]
    }
   ],
   "source": [
    "MODEL_DIR = \"../models/31f693930f4646c0a2767a9aea2b037d/artifacts/model\"\n",
    "CONFIG_DIR = \"../configs/config_v7.json\"\n",
    "\n",
    "\n",
    "with open(CONFIG_DIR, \"r\") as file:\n",
    "    config = Config(**json.load(file))\n",
    "\n",
    "model = mlflow.sklearn.load_model(MODEL_DIR)"
   ]
  },
  {
   "cell_type": "code",
   "execution_count": 7,
   "metadata": {},
   "outputs": [],
   "source": [
    "a1 = 0.6333\n",
    "a2 = 0.2605\n",
    "a3 = 0.1062\n",
    "\n",
    "CS = 29.18\n",
    "PC = 932_450.0\n",
    "CE = 350.155\n",
    "\n",
    "CONSTRAINTS = {\n",
    "    \"water\": (164.0, 205.0),\n",
    "    \"cement\": (327.0, 440.0),\n",
    "    \"fine_aggregate\": (715.0, 764.0),\n",
    "    \"coarse_aggregate\": (1072.0, 1146.0),\n",
    "    \"admixture\": (0.0, 8.16),\n",
    "}\n",
    "\n",
    "DENSITY = {\n",
    "    \"water\": 1000,\n",
    "    \"cement\": 3100,\n",
    "    \"fine_aggregate\": 2687,\n",
    "    \"coarse_aggregate\": 2630,\n",
    "    \"admixture\": 1170,\n",
    "}\n",
    "\n",
    "COST = {\n",
    "    \"water\": 10,\n",
    "    \"cement\": 1300,\n",
    "    \"fine_aggregate\": 150,\n",
    "    \"coarse_aggregate\": 275,\n",
    "    \"admixture\": 45000,\n",
    "}\n",
    "\n",
    "EFFICIENCY = {\n",
    "    \"water\": 0.000344,\n",
    "    \"cement\": 0.912000,\n",
    "    \"fine_aggregate\": 0.007470,\n",
    "    \"coarse_aggregate\": 0.007470,\n",
    "    \"admixture\": 1.80000,\n",
    "}"
   ]
  },
  {
   "cell_type": "markdown",
   "metadata": {},
   "source": [
    "# Functions"
   ]
  },
  {
   "cell_type": "markdown",
   "metadata": {},
   "source": [
    "## Model Prediction"
   ]
  },
  {
   "cell_type": "code",
   "execution_count": 8,
   "metadata": {},
   "outputs": [],
   "source": [
    "def predict(\n",
    "    water,\n",
    "    cement,\n",
    "    fine_aggregate,\n",
    "    coarse_aggregate,\n",
    "    admixture,\n",
    "    age_days=28,\n",
    "    diameter=150.0,\n",
    "    height=300.0,\n",
    "):\n",
    "    fas = water / cement\n",
    "    area = np.pi * (diameter / 2) ** 2\n",
    "\n",
    "    data = {\n",
    "        \"age_days\": age_days,\n",
    "        \"cement\": cement,\n",
    "        \"water\": water,\n",
    "        \"fas\": fas,\n",
    "        \"fine_aggregate_kg\": fine_aggregate,\n",
    "        \"coarse_aggregate_kg\": coarse_aggregate,\n",
    "        \"sikacim_kg\": admixture,\n",
    "        \"fas_kg\": fas,\n",
    "        \"diameter\": diameter,\n",
    "        \"height\": height,\n",
    "    }\n",
    "\n",
    "    data = pd.Series(data).to_frame(name=0).T\n",
    "    pred_kN = model.predict(data[config.features])[0]\n",
    "    pred_MPa = 1000 * pred_kN / area\n",
    "\n",
    "    return pred_MPa"
   ]
  },
  {
   "cell_type": "code",
   "execution_count": 9,
   "metadata": {},
   "outputs": [
    {
     "data": {
      "text/plain": [
       "35.75834474476819"
      ]
     },
     "execution_count": 9,
     "metadata": {},
     "output_type": "execute_result"
    }
   ],
   "source": [
    "predict(water=205, cement=408, fine_aggregate=715, coarse_aggregate=1072, admixture=0.0)"
   ]
  },
  {
   "cell_type": "markdown",
   "metadata": {},
   "source": [
    "## Calculation"
   ]
  },
  {
   "cell_type": "code",
   "execution_count": 10,
   "metadata": {},
   "outputs": [],
   "source": [
    "def calculate_cost(water, cement, fine_aggregate, coarse_aggregate, admixture):\n",
    "    cost = 0\n",
    "    cost += water * COST[\"water\"]\n",
    "    cost += cement * COST[\"cement\"]\n",
    "    cost += fine_aggregate * COST[\"fine_aggregate\"]\n",
    "    cost += coarse_aggregate * COST[\"coarse_aggregate\"]\n",
    "    cost += admixture * COST[\"admixture\"]\n",
    "    return cost\n",
    "\n",
    "\n",
    "def calculate_efficiency(water, cement, fine_aggregate, coarse_aggregate, admixture):\n",
    "    efficiency = 0\n",
    "    efficiency += water * EFFICIENCY[\"water\"]\n",
    "    efficiency += cement * EFFICIENCY[\"cement\"]\n",
    "    efficiency += fine_aggregate * EFFICIENCY[\"fine_aggregate\"]\n",
    "    efficiency += coarse_aggregate * EFFICIENCY[\"coarse_aggregate\"]\n",
    "    efficiency += admixture * EFFICIENCY[\"admixture\"]\n",
    "    return efficiency\n",
    "\n",
    "\n",
    "def is_fulfilling_constraint(water, cement, fine_aggregate, coarse_aggregate, admixture, return_each=False):\n",
    "    sum_mass_per_density = 0\n",
    "    is_within_bounds = True\n",
    "\n",
    "    is_within_bounds &= CONSTRAINTS[\"water\"][0] <= water <= CONSTRAINTS[\"water\"][1]\n",
    "    is_within_bounds &= CONSTRAINTS[\"cement\"][0] <= cement <= CONSTRAINTS[\"cement\"][1]\n",
    "    is_within_bounds &= CONSTRAINTS[\"fine_aggregate\"][0] <= fine_aggregate <= CONSTRAINTS[\"fine_aggregate\"][1]\n",
    "    is_within_bounds &= CONSTRAINTS[\"coarse_aggregate\"][0] <= coarse_aggregate <= CONSTRAINTS[\"coarse_aggregate\"][1]\n",
    "    is_within_bounds &= CONSTRAINTS[\"admixture\"][0] <= admixture <= CONSTRAINTS[\"admixture\"][1]\n",
    "\n",
    "    sum_mass_per_density += water / DENSITY[\"water\"]\n",
    "    sum_mass_per_density += cement / DENSITY[\"cement\"]\n",
    "    sum_mass_per_density += fine_aggregate / DENSITY[\"fine_aggregate\"]\n",
    "    sum_mass_per_density += coarse_aggregate / DENSITY[\"coarse_aggregate\"]\n",
    "    sum_mass_per_density += admixture / DENSITY[\"admixture\"]\n",
    "\n",
    "    if return_each:\n",
    "        return is_within_bounds, sum_mass_per_density\n",
    "\n",
    "    return (is_within_bounds & (1.0 <= sum_mass_per_density <= 1.02))"
   ]
  },
  {
   "cell_type": "code",
   "execution_count": 8,
   "metadata": {},
   "outputs": [
    {
     "name": "stdout",
     "output_type": "stream",
     "text": [
      "934500.0\n",
      "385.51541\n",
      "True\n"
     ]
    }
   ],
   "source": [
    "print(\n",
    "    calculate_cost(\n",
    "        water=205, cement=408, fine_aggregate=715, coarse_aggregate=1072, admixture=0.0\n",
    "    )\n",
    ")\n",
    "\n",
    "print(\n",
    "    calculate_efficiency(\n",
    "        water=205, cement=408, fine_aggregate=715, coarse_aggregate=1072, admixture=0.0\n",
    "    )\n",
    ")\n",
    "\n",
    "print(\n",
    "    is_fulfilling_constraint(\n",
    "        water=205, cement=408, fine_aggregate=715, coarse_aggregate=1072, admixture=0.0\n",
    "    )\n",
    ")"
   ]
  },
  {
   "cell_type": "markdown",
   "metadata": {},
   "source": [
    "## Objective Function"
   ]
  },
  {
   "cell_type": "code",
   "execution_count": 20,
   "metadata": {},
   "outputs": [],
   "source": [
    "class Objective:\n",
    "    def __init__(self, a1, a2, a3, CS, PC, CE, age_days=28, diameter=150.0, height=300.0):\n",
    "        self.a1 = a1\n",
    "        self.a2 = a2\n",
    "        self.a3 = a3\n",
    "        self.CS = CS\n",
    "        self.PC = PC\n",
    "        self.CE = CE\n",
    "        self.age_days = age_days\n",
    "        self.diameter = diameter\n",
    "        self.height = height\n",
    "\n",
    "    def __call__(self, water, cement, fine_aggregate, coarse_aggregate, admixture, return_each=False):\n",
    "        if not is_fulfilling_constraint(water, cement, fine_aggregate, coarse_aggregate, admixture):\n",
    "            return 1e6\n",
    "\n",
    "        cost = calculate_cost(water, cement, fine_aggregate, coarse_aggregate, admixture)\n",
    "        efficiency = calculate_efficiency(water, cement, fine_aggregate, coarse_aggregate, admixture)\n",
    "        pred = predict(\n",
    "            water, cement, fine_aggregate, coarse_aggregate, admixture,\n",
    "            age_days=self.age_days, diameter=self.diameter, height=self.height\n",
    "        )\n",
    "        \n",
    "        error_cs = abs(self.CS - pred) / self.CS\n",
    "        error_pc = abs(self.PC - cost) / self.PC\n",
    "        error_ce = abs(self.CE - efficiency) / self.CE\n",
    "\n",
    "        if return_each:\n",
    "            return error_cs, error_pc, error_ce\n",
    "\n",
    "        return self.a1 * error_cs + self.a2 * error_pc + self.a3 * error_ce\n",
    "\n",
    "        # return (\n",
    "        #     self.a1 * (self.CS - pred) ** 2\n",
    "        #     + self.a2 * ((self.PC / 1000.) - (cost / 1000.)) ** 2\n",
    "        #     + self.a3 * (self.CE - efficiency) ** 2\n",
    "        # )\n",
    "\n",
    "class ObjectiveWithSlump(Objective):\n",
    "    def __init__(self, *args, target_slump=(8, 12), slump_func, **kwargs):\n",
    "        super().__init__(*args, **kwargs)\n",
    "        self.target_slump = target_slump\n",
    "        self.slump_func = slump_func\n",
    "    \n",
    "    def error_slump(self, slump):\n",
    "        if self.target_slump[0] <= slump <= self.target_slump[1]:\n",
    "            return 0\n",
    "\n",
    "        mid = (self.target_slump[0] + self.target_slump[1]) / 2\n",
    "        return abs(mid - slump) / mid\n",
    "\n",
    "    def __call__(self, water, cement, fine_aggregate, coarse_aggregate, admixture, return_each=False):\n",
    "        slump = self.slump_func(water, cement, fine_aggregate, coarse_aggregate, admixture)\n",
    "\n",
    "        if return_each:\n",
    "            error_cs, error_pc, error_ce = super().__call__(\n",
    "                water, cement, fine_aggregate, coarse_aggregate, admixture, return_each=True\n",
    "            )\n",
    "            error_slump = self.error_slump(slump)\n",
    "            return error_cs, error_pc, error_ce, error_slump\n",
    "        else:\n",
    "            error = super().__call__(\n",
    "                water, cement, fine_aggregate, coarse_aggregate, admixture\n",
    "            )\n",
    "            error += self.error_slump(slump)\n",
    "            return error"
   ]
  },
  {
   "cell_type": "code",
   "execution_count": 12,
   "metadata": {},
   "outputs": [
    {
     "data": {
      "text/plain": [
       "0.15406859323451014"
      ]
     },
     "execution_count": 12,
     "metadata": {},
     "output_type": "execute_result"
    }
   ],
   "source": [
    "objective = Objective(a1=0.6333, a2=0.2605, a3=0.1062, CS=29.18, PC=932_450.0, CE=350.155)\n",
    "\n",
    "objective(water=205, cement=408, fine_aggregate=715, coarse_aggregate=1072, admixture=0.0)"
   ]
  },
  {
   "cell_type": "markdown",
   "metadata": {},
   "source": [
    "## Particle Swarm Optimization"
   ]
  },
  {
   "cell_type": "code",
   "execution_count": 13,
   "metadata": {},
   "outputs": [],
   "source": [
    "def particle_swarm_optimization(\n",
    "    objective,\n",
    "    n_dimensions=5,\n",
    "    n_particles=100,\n",
    "    c1=2.0,\n",
    "    c2=2.0,\n",
    "    Gk=50,\n",
    "    w=0.9,\n",
    "    verbose=True\n",
    "):\n",
    "    # Initialize the particles within the constraints defined in `CONSTRAINTS`\n",
    "    particles = np.random.uniform(\n",
    "        low=[v[0] for v in CONSTRAINTS.values()],\n",
    "        high=[v[1] for v in CONSTRAINTS.values()],\n",
    "        size=(n_particles, n_dimensions),\n",
    "    )\n",
    "\n",
    "    # Initialize the velocities\n",
    "    velocities = np.zeros((n_particles, n_dimensions))\n",
    "\n",
    "    # Initialize the personal best positions and values\n",
    "    personal_best_positions = particles.copy()\n",
    "    personal_best_values = np.array([objective(*p) for p in particles])\n",
    "\n",
    "    # Initialize the global best position and value\n",
    "    global_best_position = particles[np.argmin(personal_best_values)]\n",
    "    global_best_value = np.min(personal_best_values)\n",
    "    \n",
    "    if verbose:\n",
    "        pbar = tqdm(range(Gk))\n",
    "    else:\n",
    "        pbar = range(Gk)\n",
    "\n",
    "    for k in pbar:\n",
    "        for i in range(n_particles):\n",
    "            # Update the velocities\n",
    "            velocities[i] = (\n",
    "                w * velocities[i]\n",
    "                + c1 * np.random.rand() * (personal_best_positions[i] - particles[i])\n",
    "                + c2 * np.random.rand() * (global_best_position - particles[i])\n",
    "            )\n",
    "\n",
    "            # Update the particles\n",
    "            particles[i] += velocities[i]\n",
    "\n",
    "            # Update the personal best positions and values\n",
    "            value = objective(*particles[i])\n",
    "            if value < personal_best_values[i]:\n",
    "                personal_best_values[i] = value\n",
    "                personal_best_positions[i] = particles[i]\n",
    "\n",
    "            # Update the global best position and value\n",
    "            if value < global_best_value:\n",
    "                global_best_value = value\n",
    "                global_best_position = particles[i]\n",
    "\n",
    "    return global_best_position, global_best_value"
   ]
  },
  {
   "cell_type": "markdown",
   "metadata": {},
   "source": [
    "# Running"
   ]
  },
  {
   "cell_type": "code",
   "execution_count": 24,
   "metadata": {},
   "outputs": [],
   "source": [
    "def show_result(global_best_position, objective):\n",
    "    water, cement, fine_aggregate, coarse_aggregate, admixture = global_best_position.round(2)\n",
    "\n",
    "    pc_star = int(calculate_cost(water, cement, fine_aggregate, coarse_aggregate, admixture))\n",
    "    ce_star = calculate_efficiency(water, cement, fine_aggregate, coarse_aggregate, admixture)\n",
    "    cs_star = predict(\n",
    "        water, cement, fine_aggregate, coarse_aggregate, admixture, age_days=objective.age_days\n",
    "    )\n",
    "    slump_star = objective.slump_func(\n",
    "        water, cement, fine_aggregate, coarse_aggregate, admixture\n",
    "    )\n",
    "    is_within_constraint, total_density = is_fulfilling_constraint(\n",
    "        water, cement, fine_aggregate, coarse_aggregate, admixture, return_each=True\n",
    "    )\n",
    "\n",
    "    print(f'Compressive strength (CS*): {cs_star:.2f}')\n",
    "    print(f'Cost (PC*): {pc_star:,}')\n",
    "    print(f'Carbon emission (CE*): {ce_star:.2f}')\n",
    "    print(f'Slump (S*): {slump_star:.2f}')\n",
    "\n",
    "    print(f'Is within constraint: {is_within_constraint}')\n",
    "    print(f'Total density: {total_density:.4f}')\n",
    "\n",
    "    print('Best solution:', json.dumps({\n",
    "        'water': water,\n",
    "        'cement': cement,\n",
    "        'fine_aggregate': fine_aggregate,\n",
    "        'coarse_aggregate': coarse_aggregate,\n",
    "        'admixture': admixture,\n",
    "    }, indent=4))\n",
    "\n",
    "def search_best_seed(objective, n_seeds=50, **pso_kwargs):\n",
    "    best_seed, best_value = None, 1e6\n",
    "\n",
    "    for seed in tqdm(range(n_seeds)):\n",
    "        np.random.seed(seed)\n",
    "        global_best_position_1, global_best_value = particle_swarm_optimization(\n",
    "            objective, verbose=False, **pso_kwargs\n",
    "        )\n",
    "        \n",
    "        if global_best_value < best_value and is_fulfilling_constraint(*global_best_position_1):\n",
    "            best_seed, best_value = seed, global_best_value\n",
    "            print(f'Found new best solution with seed {seed} and value {global_best_value:.4f}')\n",
    "\n",
    "    return best_seed, best_value"
   ]
  },
  {
   "cell_type": "code",
   "execution_count": 28,
   "metadata": {},
   "outputs": [],
   "source": [
    "def slump_func(water, cement, fine_aggregate, coarse_aggregate, admixture):\n",
    "    fas = water / cement\n",
    "    kg_sikacim = admixture\n",
    "    \n",
    "    if kg_sikacim < -1:\n",
    "        return 999_999\n",
    "\n",
    "    slump = (\n",
    "        57.34 * fas +\n",
    "        0.26 * water +\n",
    "        0.96 * kg_sikacim +\n",
    "        3.79 * np.log1p(kg_sikacim) +\n",
    "        -73.48\n",
    "    )\n",
    "\n",
    "    return slump"
   ]
  },
  {
   "cell_type": "markdown",
   "metadata": {},
   "source": [
    "## Scenario With Slump 1"
   ]
  },
  {
   "cell_type": "code",
   "execution_count": 26,
   "metadata": {},
   "outputs": [
    {
     "name": "stderr",
     "output_type": "stream",
     "text": [
      " 50%|█████     | 10/20 [00:22<00:22,  2.28s/it]"
     ]
    },
    {
     "name": "stdout",
     "output_type": "stream",
     "text": [
      "Found new best solution with seed 9 and value 0.0092\n"
     ]
    },
    {
     "name": "stderr",
     "output_type": "stream",
     "text": [
      "100%|██████████| 20/20 [00:50<00:00,  2.50s/it]\n",
      "100%|██████████| 50/50 [00:01<00:00, 25.60it/s]"
     ]
    },
    {
     "name": "stdout",
     "output_type": "stream",
     "text": [
      "\n",
      "PSO global best value: 0.009169286688636221\n",
      "Best objective: 0.6696682617051104\n",
      "CS, PC, CE % error: (0.3156809532073782, 0.007321518192821105, 0.011383310173673415, 0.46663135100920383)\n",
      "\n",
      "Compressive strength (CS*): 39.47\n",
      "Cost (PC*): 925,555\n",
      "Carbon emission (CE*): 354.14\n",
      "Slump (S*): 5.33\n",
      "Is within constraint: True\n",
      "Total density: 1.0098\n",
      "Best solution: {\n",
      "    \"water\": 186.32,\n",
      "    \"cement\": 372.18,\n",
      "    \"fine_aggregate\": 726.99,\n",
      "    \"coarse_aggregate\": 1137.49,\n",
      "    \"admixture\": 0.4\n",
      "}\n"
     ]
    },
    {
     "name": "stderr",
     "output_type": "stream",
     "text": [
      "\n"
     ]
    }
   ],
   "source": [
    "objective_1 = ObjectiveWithSlump(\n",
    "    a1=0.6333, a2=0.2605, a3=0.1062, CS=30, PC=932_450.0, CE=350.155, age_days=28,\n",
    "    target_slump=(8, 12), slump_func=slump_func\n",
    ")\n",
    "\n",
    "best_seed, best_value = search_best_seed(objective_1, n_seeds=20, n_particles=200, Gk=50)\n",
    "\n",
    "np.random.seed(best_seed)\n",
    "global_best_position_1, global_best_value_1 = particle_swarm_optimization(objective_1, Gk=50, n_particles=200)\n",
    "\n",
    "print()\n",
    "print('PSO global best value:', global_best_value_1)\n",
    "print('Best objective:', objective_1(*global_best_position_1))\n",
    "print('CS, PC, CE, slump % error:', objective_1(*global_best_position_1, return_each=True))\n",
    "print()\n",
    "\n",
    "show_result(global_best_position_1, objective_1)"
   ]
  },
  {
   "cell_type": "markdown",
   "metadata": {},
   "source": [
    "## Scenario With Slump 2"
   ]
  },
  {
   "cell_type": "code",
   "execution_count": 29,
   "metadata": {},
   "outputs": [
    {
     "name": "stderr",
     "output_type": "stream",
     "text": [
      " 25%|██▌       | 5/20 [00:12<00:34,  2.32s/it]"
     ]
    },
    {
     "name": "stdout",
     "output_type": "stream",
     "text": [
      "Found new best solution with seed 4 and value 0.0282\n"
     ]
    },
    {
     "name": "stderr",
     "output_type": "stream",
     "text": [
      " 90%|█████████ | 18/20 [00:58<00:07,  3.93s/it]"
     ]
    },
    {
     "name": "stdout",
     "output_type": "stream",
     "text": [
      "Found new best solution with seed 17 and value 0.0232\n"
     ]
    },
    {
     "name": "stderr",
     "output_type": "stream",
     "text": [
      "100%|██████████| 20/20 [01:03<00:00,  3.20s/it]\n",
      "100%|██████████| 50/50 [00:02<00:00, 18.46it/s]"
     ]
    },
    {
     "name": "stdout",
     "output_type": "stream",
     "text": [
      "\n",
      "PSO global best value: 0.023195923401941904\n",
      "Best objective: 0.09269693143627379\n",
      "CS, PC, CE, slump % error: (0.3156809532073782, 0.007321518192821105, 0.011383310173673415, 0.46663135100920383)\n",
      "\n",
      "Compressive strength (CS*): 24.51\n",
      "Cost (PC*): 949,441\n",
      "Carbon emission (CE*): 367.88\n",
      "Slump (S*): 8.08\n",
      "Is within constraint: True\n",
      "Total density: 1.0108\n",
      "Best solution: {\n",
      "    \"water\": 193.14,\n",
      "    \"cement\": 386.86,\n",
      "    \"fine_aggregate\": 738.77,\n",
      "    \"coarse_aggregate\": 1097.55,\n",
      "    \"admixture\": 0.71\n",
      "}\n"
     ]
    },
    {
     "name": "stderr",
     "output_type": "stream",
     "text": [
      "\n"
     ]
    }
   ],
   "source": [
    "objective_2 = ObjectiveWithSlump(\n",
    "    a1=0.6333, a2=0.2605, a3=0.1062, CS=28.18, PC=932_450.0, CE=350.155, age_days=3,\n",
    "    target_slump=(8, 12), slump_func=slump_func\n",
    ")\n",
    "\n",
    "best_seed, best_value = search_best_seed(objective_2, n_seeds=20, n_particles=200, Gk=50)\n",
    "\n",
    "np.random.seed(best_seed)\n",
    "global_best_position_2, global_best_value_2 = particle_swarm_optimization(objective_2, Gk=50, n_particles=200)\n",
    "\n",
    "print()\n",
    "print('PSO global best value:', global_best_value_2)\n",
    "print('Best objective:', objective_2(*global_best_position_2))\n",
    "print('CS, PC, CE, slump % error:', objective_1(*global_best_position_1, return_each=True))\n",
    "print()\n",
    "\n",
    "show_result(global_best_position_2, objective_2)"
   ]
  },
  {
   "cell_type": "markdown",
   "metadata": {},
   "source": [
    "## Scenario With Slump 3"
   ]
  },
  {
   "cell_type": "code",
   "execution_count": 31,
   "metadata": {},
   "outputs": [
    {
     "name": "stderr",
     "output_type": "stream",
     "text": [
      " 17%|█▋        | 2/12 [00:03<00:19,  1.99s/it]"
     ]
    },
    {
     "name": "stdout",
     "output_type": "stream",
     "text": [
      "Found new best solution with seed 1 and value 0.0125\n"
     ]
    },
    {
     "name": "stderr",
     "output_type": "stream",
     "text": [
      "100%|██████████| 12/12 [00:35<00:00,  2.97s/it]\n",
      "100%|██████████| 50/50 [00:03<00:00, 15.43it/s]"
     ]
    },
    {
     "name": "stdout",
     "output_type": "stream",
     "text": [
      "\n",
      "PSO global best value: 0.012473184202106087\n",
      "Best objective: 0.1792406417459696\n",
      "CS, PC, CE, slump % error: (0.3156809532073782, 0.007321518192821105, 0.011383310173673415, 0.46663135100920383)\n",
      "\n",
      "Compressive strength (CS*): 27.56\n",
      "Cost (PC*): 973,117\n",
      "Carbon emission (CE*): 365.71\n",
      "Slump (S*): 8.12\n",
      "Is within constraint: True\n",
      "Total density: 1.0099\n",
      "Best solution: {\n",
      "    \"water\": 188.66,\n",
      "    \"cement\": 383.29,\n",
      "    \"fine_aggregate\": 737.76,\n",
      "    \"coarse_aggregate\": 1109.6,\n",
      "    \"admixture\": 1.27\n",
      "}\n"
     ]
    },
    {
     "name": "stderr",
     "output_type": "stream",
     "text": [
      "\n"
     ]
    }
   ],
   "source": [
    "objective_3 = ObjectiveWithSlump(\n",
    "    a1=0.6333, a2=0.2605, a3=0.1062, CS=21.91, PC=932_450.0, CE=350.155, age_days=3,\n",
    "    target_slump=(8, 12), slump_func=slump_func\n",
    ")\n",
    "\n",
    "best_seed, best_value = search_best_seed(objective_3, n_seeds=12, n_particles=200, Gk=50)\n",
    "\n",
    "np.random.seed(best_seed)\n",
    "global_best_position_3, global_best_value_3 = particle_swarm_optimization(objective_3, Gk=50, n_particles=200)\n",
    "\n",
    "print()\n",
    "print('PSO global best value:', global_best_value_3)\n",
    "print('Best objective:', objective_3(*global_best_position_3))\n",
    "print('CS, PC, CE, slump % error:', objective_1(*global_best_position_1, return_each=True))\n",
    "print()\n",
    "\n",
    "show_result(global_best_position_3, objective_3)"
   ]
  },
  {
   "cell_type": "markdown",
   "metadata": {},
   "source": [
    "## Scenario 1"
   ]
  },
  {
   "cell_type": "code",
   "execution_count": 64,
   "metadata": {},
   "outputs": [
    {
     "name": "stderr",
     "output_type": "stream",
     "text": [
      " 15%|█▌        | 3/20 [00:07<00:47,  2.79s/it]"
     ]
    },
    {
     "name": "stdout",
     "output_type": "stream",
     "text": [
      "Found new best solution with seed 2 and value 0.0006\n"
     ]
    },
    {
     "name": "stderr",
     "output_type": "stream",
     "text": [
      "100%|██████████| 20/20 [01:11<00:00,  3.59s/it]"
     ]
    },
    {
     "name": "stdout",
     "output_type": "stream",
     "text": [
      "Found new best solution with seed 19 and value 0.0005\n"
     ]
    },
    {
     "name": "stderr",
     "output_type": "stream",
     "text": [
      "\n"
     ]
    }
   ],
   "source": [
    "objective_1 = Objective(\n",
    "    a1=0.6333, a2=0.2605, a3=0.1062, CS=29.18, PC=932_450.0, CE=350.155, age_days=28\n",
    ")\n",
    "\n",
    "best_seed, best_value = search_best_seed(objective_1, n_seeds=20, n_particles=200, Gk=50)"
   ]
  },
  {
   "cell_type": "code",
   "execution_count": 71,
   "metadata": {},
   "outputs": [
    {
     "name": "stderr",
     "output_type": "stream",
     "text": [
      "100%|██████████| 50/50 [00:04<00:00, 10.61it/s]"
     ]
    },
    {
     "name": "stdout",
     "output_type": "stream",
     "text": [
      "\n",
      "PSO global best value: 0.0005409535288790171\n",
      "Best objective: 0.22888188336127388\n",
      "CS, PC, CE % error: (0.3566529899383197, 0.0018676752234365187, 0.0237948722940758)\n",
      "\n",
      "Compressive strength (CS*): 39.59\n",
      "Cost (PC*): 930,824\n",
      "Carbon emission (CE*): 358.49\n",
      "Is within constraint: True\n",
      "Total density: 1.0037\n",
      "Best solution: {\n",
      "    \"water\": 185.7,\n",
      "    \"cement\": 376.97,\n",
      "    \"fine_aggregate\": 718.27,\n",
      "    \"coarse_aggregate\": 1127.33,\n",
      "    \"admixture\": 0.47\n",
      "}\n"
     ]
    },
    {
     "name": "stderr",
     "output_type": "stream",
     "text": [
      "\n"
     ]
    }
   ],
   "source": [
    "objective_2 = Objective(\n",
    "    a1=0.6333, a2=0.2605, a3=0.1062, CS=29.18, PC=932_450.0, CE=350.155, age_days=3\n",
    ")\n",
    "\n",
    "best_seed, best_value = search_best_seed(objective_2, n_seeds=12, n_particles=200, Gk=50)\n",
    "\n",
    "np.random.seed(best_seed)\n",
    "global_best_position_1, global_best_value_1 = particle_swarm_optimization(objective_1, Gk=50, n_particles=200)\n",
    "\n",
    "print()\n",
    "print('PSO global best value:', global_best_value_1)\n",
    "print('Best objective:', objective_1(*global_best_position_1))\n",
    "print('CS, PC, CE % error:', objective_1(*global_best_position_1, return_each=True))\n",
    "print()\n",
    "\n",
    "show_result(global_best_position_1, objective_1)"
   ]
  },
  {
   "cell_type": "markdown",
   "metadata": {},
   "source": [
    "## Scenario 2"
   ]
  },
  {
   "cell_type": "code",
   "execution_count": 81,
   "metadata": {},
   "outputs": [
    {
     "name": "stderr",
     "output_type": "stream",
     "text": [
      " 17%|█▋        | 2/12 [00:04<00:23,  2.39s/it]"
     ]
    },
    {
     "name": "stdout",
     "output_type": "stream",
     "text": [
      "Found new best solution with seed 1 and value 0.0315\n"
     ]
    },
    {
     "name": "stderr",
     "output_type": "stream",
     "text": [
      "100%|██████████| 12/12 [00:23<00:00,  1.92s/it]"
     ]
    },
    {
     "name": "stdout",
     "output_type": "stream",
     "text": [
      "Found new best solution with seed 11 and value 0.0309\n"
     ]
    },
    {
     "name": "stderr",
     "output_type": "stream",
     "text": [
      "\n"
     ]
    }
   ],
   "source": [
    "objective_2 = Objective(\n",
    "    a1=0.6333, a2=0.2605, a3=0.1062, CS=29.18, PC=932_450.0, CE=350.155, age_days=3\n",
    ")\n",
    "\n",
    "best_seed, best_value = search_best_seed(objective_2, n_seeds=12, n_particles=200, Gk=50)"
   ]
  },
  {
   "cell_type": "code",
   "execution_count": 82,
   "metadata": {},
   "outputs": [
    {
     "name": "stderr",
     "output_type": "stream",
     "text": [
      "100%|██████████| 50/50 [00:02<00:00, 19.82it/s]"
     ]
    },
    {
     "name": "stdout",
     "output_type": "stream",
     "text": [
      "\n",
      "PSO global best value: 0.030919435845807867\n",
      "Best objective: 0.03257064063213507\n",
      "CS, PC, CE % error: (0.04497522690088316, 0.00517691689344804, 0.025793244680438383)\n",
      "\n",
      "Compressive strength (CS*): 27.87\n",
      "Cost (PC*): 937,127\n",
      "Carbon emission (CE*): 359.18\n",
      "Is within constraint: True\n",
      "Total density: 1.0072\n",
      "Best solution: {\n",
      "    \"water\": 178.77,\n",
      "    \"cement\": 377.44,\n",
      "    \"fine_aggregate\": 743.85,\n",
      "    \"coarse_aggregate\": 1129.42,\n",
      "    \"admixture\": 0.5\n",
      "}\n"
     ]
    },
    {
     "name": "stderr",
     "output_type": "stream",
     "text": [
      "\n"
     ]
    }
   ],
   "source": [
    "np.random.seed(best_seed)\n",
    "global_best_position_2, global_best_value_2 = particle_swarm_optimization(objective_2, Gk=50, n_particles=200)\n",
    "\n",
    "print()\n",
    "print('PSO global best value:', global_best_value_2)\n",
    "print('Best objective:', objective_2(*global_best_position_2))\n",
    "print('CS, PC, CE % error:', objective_2(*global_best_position_2, return_each=True))\n",
    "print()\n",
    "\n",
    "show_result(global_best_position_2, objective_2)"
   ]
  },
  {
   "cell_type": "markdown",
   "metadata": {},
   "source": [
    "## Scenario 3"
   ]
  },
  {
   "cell_type": "code",
   "execution_count": 87,
   "metadata": {},
   "outputs": [
    {
     "name": "stderr",
     "output_type": "stream",
     "text": [
      " 25%|██▌       | 3/12 [00:11<00:36,  4.07s/it]"
     ]
    },
    {
     "name": "stdout",
     "output_type": "stream",
     "text": [
      "Found new best solution with seed 2 and value 0.0006\n"
     ]
    },
    {
     "name": "stderr",
     "output_type": "stream",
     "text": [
      "100%|██████████| 12/12 [00:41<00:00,  3.48s/it]\n"
     ]
    }
   ],
   "source": [
    "objective_3 = Objective(\n",
    "    a1=0.6333, a2=0.2605, a3=0.1062, CS=21., PC=932_450.0, CE=350.155, age_days=3\n",
    ")\n",
    "\n",
    "best_seed, best_value = search_best_seed(objective_3, n_seeds=12, n_particles=200, Gk=50)"
   ]
  },
  {
   "cell_type": "code",
   "execution_count": 88,
   "metadata": {},
   "outputs": [
    {
     "name": "stderr",
     "output_type": "stream",
     "text": [
      "100%|██████████| 50/50 [00:05<00:00,  9.14it/s]"
     ]
    },
    {
     "name": "stdout",
     "output_type": "stream",
     "text": [
      "\n",
      "PSO global best value: 0.000607016664873828\n",
      "Best objective: 0.0018210478501313708\n",
      "CS, PC, CE % error: (0.0004601497399595324, 0.005692862229281355, 0.00043921289159327574)\n",
      "\n",
      "Compressive strength (CS*): 21.01\n",
      "Cost (PC*): 927,230\n",
      "Carbon emission (CE*): 350.31\n",
      "Is within constraint: True\n",
      "Total density: 1.0059\n",
      "Best solution: {\n",
      "    \"water\": 193.32,\n",
      "    \"cement\": 367.43,\n",
      "    \"fine_aggregate\": 746.7,\n",
      "    \"coarse_aggregate\": 1092.85,\n",
      "    \"admixture\": 0.78\n",
      "}\n"
     ]
    },
    {
     "name": "stderr",
     "output_type": "stream",
     "text": [
      "\n"
     ]
    }
   ],
   "source": [
    "np.random.seed(best_seed)\n",
    "global_best_position_3, global_best_value_3 = particle_swarm_optimization(objective_3, Gk=50, n_particles=200)\n",
    "\n",
    "print()\n",
    "print('PSO global best value:', global_best_value_3)\n",
    "print('Best objective:', objective_3(*global_best_position_3))\n",
    "print('CS, PC, CE % error:', objective_3(*global_best_position_3, return_each=True))\n",
    "print()\n",
    "\n",
    "show_result(global_best_position_3, objective_3)"
   ]
  }
 ],
 "metadata": {
  "kernelspec": {
   "display_name": "project-mix-design",
   "language": "python",
   "name": "python3"
  },
  "language_info": {
   "codemirror_mode": {
    "name": "ipython",
    "version": 3
   },
   "file_extension": ".py",
   "mimetype": "text/x-python",
   "name": "python",
   "nbconvert_exporter": "python",
   "pygments_lexer": "ipython3",
   "version": "3.10.0"
  }
 },
 "nbformat": 4,
 "nbformat_minor": 2
}
